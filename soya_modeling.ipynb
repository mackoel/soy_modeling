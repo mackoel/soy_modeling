{
  "nbformat": 4,
  "nbformat_minor": 0,
  "metadata": {
    "colab": {
      "name": "soya_modeling.ipynb",
      "version": "0.3.2",
      "provenance": [],
      "collapsed_sections": [],
      "toc_visible": true,
      "include_colab_link": true
    },
    "kernelspec": {
      "name": "python3",
      "display_name": "Python 3"
    },
    "accelerator": "GPU"
  },
  "cells": [
    {
      "cell_type": "markdown",
      "metadata": {
        "id": "view-in-github",
        "colab_type": "text"
      },
      "source": [
        "[View in Colaboratory](https://colab.research.google.com/github/olegtaratuhin/soy_modeling/blob/master/soya_modeling.ipynb)"
      ]
    },
    {
      "metadata": {
        "id": "uZo3etVD_Xnq",
        "colab_type": "text"
      },
      "cell_type": "markdown",
      "source": [
        "# Soy blossom period prediction model"
      ]
    },
    {
      "metadata": {
        "id": "8uvy2UF6O_zR",
        "colab_type": "text"
      },
      "cell_type": "markdown",
      "source": [
        "## Setup"
      ]
    },
    {
      "metadata": {
        "id": "W5rFAVaqARsQ",
        "colab_type": "text"
      },
      "cell_type": "markdown",
      "source": [
        "### Configure environment"
      ]
    },
    {
      "metadata": {
        "id": "4ji6Pv5z19yh",
        "colab_type": "code",
        "colab": {
          "base_uri": "https://localhost:8080/",
          "height": 73
        },
        "outputId": "ac98f5b2-0045-409a-a247-6ac4a639f056"
      },
      "cell_type": "code",
      "source": [
        "!pip install pydot"
      ],
      "execution_count": 97,
      "outputs": [
        {
          "output_type": "stream",
          "text": [
            "Requirement already satisfied: pydot in /usr/local/lib/python3.6/dist-packages (1.2.4)\n",
            "Requirement already satisfied: pyparsing>=2.1.4 in /usr/local/lib/python3.6/dist-packages (from pydot) (2.2.2)\n"
          ],
          "name": "stdout"
        }
      ]
    },
    {
      "metadata": {
        "id": "TOEIMPH508ai",
        "colab_type": "text"
      },
      "cell_type": "markdown",
      "source": [
        "### Show the machine details the environment is running on"
      ]
    },
    {
      "metadata": {
        "id": "uEjfrbGN1VAg",
        "colab_type": "text"
      },
      "cell_type": "markdown",
      "source": [
        "Show CPU info"
      ]
    },
    {
      "metadata": {
        "id": "slRC3KmWy9B0",
        "colab_type": "code",
        "colab": {
          "base_uri": "https://localhost:8080/",
          "height": 1009
        },
        "outputId": "bd77c900-86a7-4b01-f0a6-5a9c974899f7"
      },
      "cell_type": "code",
      "source": [
        "!cat /proc/cpuinfo"
      ],
      "execution_count": 3,
      "outputs": [
        {
          "output_type": "stream",
          "text": [
            "processor\t: 0\n",
            "vendor_id\t: GenuineIntel\n",
            "cpu family\t: 6\n",
            "model\t\t: 63\n",
            "model name\t: Intel(R) Xeon(R) CPU @ 2.30GHz\n",
            "stepping\t: 0\n",
            "microcode\t: 0x1\n",
            "cpu MHz\t\t: 2299.998\n",
            "cache size\t: 46080 KB\n",
            "physical id\t: 0\n",
            "siblings\t: 2\n",
            "core id\t\t: 0\n",
            "cpu cores\t: 1\n",
            "apicid\t\t: 0\n",
            "initial apicid\t: 0\n",
            "fpu\t\t: yes\n",
            "fpu_exception\t: yes\n",
            "cpuid level\t: 13\n",
            "wp\t\t: yes\n",
            "flags\t\t: fpu vme de pse tsc msr pae mce cx8 apic sep mtrr pge mca cmov pat pse36 clflush mmx fxsr sse sse2 ss ht syscall nx pdpe1gb rdtscp lm constant_tsc rep_good nopl xtopology nonstop_tsc cpuid pni pclmulqdq ssse3 fma cx16 sse4_1 sse4_2 x2apic movbe popcnt aes xsave avx f16c rdrand hypervisor lahf_lm abm pti fsgsbase tsc_adjust bmi1 avx2 smep bmi2 erms xsaveopt arch_capabilities\n",
            "bugs\t\t: cpu_meltdown spectre_v1 spectre_v2 spec_store_bypass l1tf\n",
            "bogomips\t: 4599.99\n",
            "clflush size\t: 64\n",
            "cache_alignment\t: 64\n",
            "address sizes\t: 46 bits physical, 48 bits virtual\n",
            "power management:\n",
            "\n",
            "processor\t: 1\n",
            "vendor_id\t: GenuineIntel\n",
            "cpu family\t: 6\n",
            "model\t\t: 63\n",
            "model name\t: Intel(R) Xeon(R) CPU @ 2.30GHz\n",
            "stepping\t: 0\n",
            "microcode\t: 0x1\n",
            "cpu MHz\t\t: 2299.998\n",
            "cache size\t: 46080 KB\n",
            "physical id\t: 0\n",
            "siblings\t: 2\n",
            "core id\t\t: 0\n",
            "cpu cores\t: 1\n",
            "apicid\t\t: 1\n",
            "initial apicid\t: 1\n",
            "fpu\t\t: yes\n",
            "fpu_exception\t: yes\n",
            "cpuid level\t: 13\n",
            "wp\t\t: yes\n",
            "flags\t\t: fpu vme de pse tsc msr pae mce cx8 apic sep mtrr pge mca cmov pat pse36 clflush mmx fxsr sse sse2 ss ht syscall nx pdpe1gb rdtscp lm constant_tsc rep_good nopl xtopology nonstop_tsc cpuid pni pclmulqdq ssse3 fma cx16 sse4_1 sse4_2 x2apic movbe popcnt aes xsave avx f16c rdrand hypervisor lahf_lm abm pti fsgsbase tsc_adjust bmi1 avx2 smep bmi2 erms xsaveopt arch_capabilities\n",
            "bugs\t\t: cpu_meltdown spectre_v1 spectre_v2 spec_store_bypass l1tf\n",
            "bogomips\t: 4599.99\n",
            "clflush size\t: 64\n",
            "cache_alignment\t: 64\n",
            "address sizes\t: 46 bits physical, 48 bits virtual\n",
            "power management:\n",
            "\n"
          ],
          "name": "stdout"
        }
      ]
    },
    {
      "metadata": {
        "id": "DCtwxw0i1YA7",
        "colab_type": "text"
      },
      "cell_type": "markdown",
      "source": [
        "Show RAM info"
      ]
    },
    {
      "metadata": {
        "id": "cRZfNgbA1Rmq",
        "colab_type": "code",
        "colab": {
          "base_uri": "https://localhost:8080/",
          "height": 827
        },
        "outputId": "1cbc5686-0d0d-40fe-ff85-a544d1c73a1d"
      },
      "cell_type": "code",
      "source": [
        "!cat /proc/meminfo"
      ],
      "execution_count": 4,
      "outputs": [
        {
          "output_type": "stream",
          "text": [
            "MemTotal:       13335204 kB\n",
            "MemFree:         6664408 kB\n",
            "MemAvailable:   12631916 kB\n",
            "Buffers:           51612 kB\n",
            "Cached:          6080724 kB\n",
            "SwapCached:            0 kB\n",
            "Active:           732944 kB\n",
            "Inactive:        5683300 kB\n",
            "Active(anon):     262336 kB\n",
            "Inactive(anon):      332 kB\n",
            "Active(file):     470608 kB\n",
            "Inactive(file):  5682968 kB\n",
            "Unevictable:           0 kB\n",
            "Mlocked:               0 kB\n",
            "SwapTotal:             0 kB\n",
            "SwapFree:              0 kB\n",
            "Dirty:               816 kB\n",
            "Writeback:             0 kB\n",
            "AnonPages:        284000 kB\n",
            "Mapped:           160996 kB\n",
            "Shmem:               836 kB\n",
            "Slab:             142488 kB\n",
            "SReclaimable:     111356 kB\n",
            "SUnreclaim:        31132 kB\n",
            "KernelStack:        3704 kB\n",
            "PageTables:         4556 kB\n",
            "NFS_Unstable:          0 kB\n",
            "Bounce:                0 kB\n",
            "WritebackTmp:          0 kB\n",
            "CommitLimit:     6667600 kB\n",
            "Committed_AS:    1673456 kB\n",
            "VmallocTotal:   34359738367 kB\n",
            "VmallocUsed:           0 kB\n",
            "VmallocChunk:          0 kB\n",
            "AnonHugePages:         0 kB\n",
            "ShmemHugePages:        0 kB\n",
            "ShmemPmdMapped:        0 kB\n",
            "HugePages_Total:       0\n",
            "HugePages_Free:        0\n",
            "HugePages_Rsvd:        0\n",
            "HugePages_Surp:        0\n",
            "Hugepagesize:       2048 kB\n",
            "DirectMap4k:       94196 kB\n",
            "DirectMap2M:     4100096 kB\n",
            "DirectMap1G:    11534336 kB\n"
          ],
          "name": "stdout"
        }
      ]
    },
    {
      "metadata": {
        "id": "98yFKWiy1mOo",
        "colab_type": "text"
      },
      "cell_type": "markdown",
      "source": [
        "Show GPU info"
      ]
    },
    {
      "metadata": {
        "id": "sCustmJB1pRd",
        "colab_type": "code",
        "colab": {
          "base_uri": "https://localhost:8080/",
          "height": 307
        },
        "outputId": "dea01199-e01d-411d-9d43-31a34e0d3d6e"
      },
      "cell_type": "code",
      "source": [
        "from tensorflow.python.client import device_lib\n",
        "device_lib.list_local_devices()"
      ],
      "execution_count": 5,
      "outputs": [
        {
          "output_type": "execute_result",
          "data": {
            "text/plain": [
              "[name: \"/device:CPU:0\"\n",
              " device_type: \"CPU\"\n",
              " memory_limit: 268435456\n",
              " locality {\n",
              " }\n",
              " incarnation: 10935837883317672325, name: \"/device:GPU:0\"\n",
              " device_type: \"GPU\"\n",
              " memory_limit: 11281553818\n",
              " locality {\n",
              "   bus_id: 1\n",
              "   links {\n",
              "   }\n",
              " }\n",
              " incarnation: 13877073830548924300\n",
              " physical_device_desc: \"device: 0, name: Tesla K80, pci bus id: 0000:00:04.0, compute capability: 3.7\"]"
            ]
          },
          "metadata": {
            "tags": []
          },
          "execution_count": 5
        }
      ]
    },
    {
      "metadata": {
        "id": "CABv94y8HL3Z",
        "colab_type": "text"
      },
      "cell_type": "markdown",
      "source": [
        "### Import modules"
      ]
    },
    {
      "metadata": {
        "id": "b7tG1GdlF4V5",
        "colab_type": "code",
        "colab": {}
      },
      "cell_type": "code",
      "source": [
        "from matplotlib import cm\n",
        "from matplotlib import gridspec\n",
        "from matplotlib import pyplot as plt\n",
        "import numpy as np\n",
        "import pandas as pd\n",
        "from sklearn import metrics\n",
        "import random\n",
        "\n",
        "import tensorflow as tf\n",
        "from tensorflow import keras\n",
        "from tensorflow.keras import backend as K\n",
        "from sklearn.metrics import r2_score as r2_metric"
      ],
      "execution_count": 0,
      "outputs": []
    },
    {
      "metadata": {
        "id": "fCkdb0IvyopK",
        "colab_type": "code",
        "colab": {}
      },
      "cell_type": "code",
      "source": [
        "from keras import backend as K\n",
        "\n",
        "def r2(y_true, y_pred):\n",
        "    SS_res =  K.sum(K.square( y_true-y_pred )) \n",
        "    SS_tot = K.sum(K.square( y_true - K.mean(y_true) ) ) \n",
        "    return ( 1 - SS_res/(SS_tot + K.epsilon()) )"
      ],
      "execution_count": 0,
      "outputs": []
    },
    {
      "metadata": {
        "id": "nJCZh6DAjeXR",
        "colab_type": "text"
      },
      "cell_type": "markdown",
      "source": [
        "### Set up the dataset"
      ]
    },
    {
      "metadata": {
        "id": "jLMzr6Q9HjOn",
        "colab_type": "text"
      },
      "cell_type": "markdown",
      "source": [
        "Download a dataset from shared Drive folder. "
      ]
    },
    {
      "metadata": {
        "id": "JCbXhbKiHppQ",
        "colab_type": "code",
        "colab": {}
      },
      "cell_type": "code",
      "source": [
        "!pip install -U -q PyDrive\n",
        "from pydrive.auth import GoogleAuth\n",
        "from pydrive.drive import GoogleDrive\n",
        "from google.colab import auth\n",
        "from oauth2client.client import GoogleCredentials\n",
        "\n",
        "# 1. Authenticate and create the PyDrive client.\n",
        "auth.authenticate_user()\n",
        "gauth = GoogleAuth()\n",
        "gauth.credentials = GoogleCredentials.get_application_default()\n",
        "drive = GoogleDrive(gauth)\n",
        "\n",
        "#2. Get the file\n",
        "downloaded = drive.CreateFile({'id':'1lLemPuEQkL1-OQCPrSbYyMLFAwVlcpyD'})\n",
        "downloaded.GetContentFile('soydata.csv')"
      ],
      "execution_count": 0,
      "outputs": []
    },
    {
      "metadata": {
        "id": "ore9JMXyjk_q",
        "colab_type": "text"
      },
      "cell_type": "markdown",
      "source": [
        "Import data set into pandas dataframe. The dataset contains a missing value on one of the key features the model will be training with, so we need to remove that explicitly"
      ]
    },
    {
      "metadata": {
        "id": "cMyVIEldRP9u",
        "colab_type": "code",
        "colab": {}
      },
      "cell_type": "code",
      "source": [
        "df = pd.read_csv('soydata.csv', index_col=[0, 1])\n",
        "df.dropna()"
      ],
      "execution_count": 0,
      "outputs": []
    },
    {
      "metadata": {
        "id": "ihMUMlDPp5j8",
        "colab_type": "text"
      },
      "cell_type": "markdown",
      "source": [
        "The data in now loaded, it uses format that will be described somewhere here some day. "
      ]
    },
    {
      "metadata": {
        "id": "TRck9wib-rG8",
        "colab_type": "text"
      },
      "cell_type": "markdown",
      "source": [
        "### Feature extraction"
      ]
    },
    {
      "metadata": {
        "id": "EFakYqHpTYb5",
        "colab_type": "text"
      },
      "cell_type": "markdown",
      "source": [
        "Shuffle the data. As dataset uses multiindex that is a little tricky, we need to shuffle only the certain level, but the days inside a single experiment shall be in natural order."
      ]
    },
    {
      "metadata": {
        "id": "nv7EdGARsKQG",
        "colab_type": "code",
        "colab": {}
      },
      "cell_type": "code",
      "source": [
        "shuffled_indexes = [i for i in range(len(df.index.levels[0]))]\n",
        "random.shuffle(shuffled_indexes)\n",
        "new_indexes = sorted(df.index, key=lambda x: shuffled_indexes.index(x[0]))"
      ],
      "execution_count": 0,
      "outputs": []
    },
    {
      "metadata": {
        "id": "qMKWEaBhTVDA",
        "colab_type": "code",
        "colab": {}
      },
      "cell_type": "code",
      "source": [
        "df = df.reindex(new_indexes)"
      ],
      "execution_count": 0,
      "outputs": []
    },
    {
      "metadata": {
        "id": "pt8STFIhrFY7",
        "colab_type": "code",
        "colab": {}
      },
      "cell_type": "code",
      "source": [
        "df"
      ],
      "execution_count": 0,
      "outputs": []
    },
    {
      "metadata": {
        "id": "DMi7GUsSTjD-",
        "colab_type": "text"
      },
      "cell_type": "markdown",
      "source": [
        "Select features and target parameter. As the data is shuffled at this point we no longer need multi-index, and selecting values will truncate that information automatically."
      ]
    },
    {
      "metadata": {
        "id": "dlpnB55syxkr",
        "colab_type": "code",
        "colab": {}
      },
      "cell_type": "code",
      "source": [
        "features = ['t_min', 't_max', 'dlen', 'day']\n",
        "data = df[features].values\n",
        "target = df['state'].values"
      ],
      "execution_count": 0,
      "outputs": []
    },
    {
      "metadata": {
        "id": "AShelcevMkUJ",
        "colab_type": "text"
      },
      "cell_type": "markdown",
      "source": [
        "data is numpy matrix with only the needed features for the model and target is numpy vector with output data"
      ]
    },
    {
      "metadata": {
        "id": "gatua_0HNPsw",
        "colab_type": "code",
        "colab": {
          "base_uri": "https://localhost:8080/",
          "height": 161
        },
        "outputId": "8013687b-e847-4635-f35c-e8b896015e79"
      },
      "cell_type": "code",
      "source": [
        "#@title Select number of rows to display { run: \"auto\", form-width: \"30%\" }\n",
        "num_entries = 3 #@param {type:\"slider\", min:0, max:5, step:1}\n",
        "print(\"Data:  \", data.shape, \"Showing only\", num_entries, \"\\n\", data[0:num_entries], \"\\n\")\n",
        "print(\"Target:\", target.shape, \"Showing only\", num_entries, \"\\n\", target[0:num_entries], \"\\n\")"
      ],
      "execution_count": 40,
      "outputs": [
        {
          "output_type": "stream",
          "text": [
            "Data:   (6134, 4) Showing only 3 \n",
            " [[0.02       0.04875    0.05563903 0.        ]\n",
            " [0.04625    0.0625     0.11205787 0.01960784]\n",
            " [0.04625    0.0625     0.1692365  0.03921569]] \n",
            "\n",
            "Target: (6134,) Showing only 3 \n",
            " [0.00669285 0.00797427 0.00949868] \n",
            "\n"
          ],
          "name": "stdout"
        }
      ]
    },
    {
      "metadata": {
        "id": "ZTmbe365Qjz8",
        "colab_type": "text"
      },
      "cell_type": "markdown",
      "source": [
        "Split the data for training and testing"
      ]
    },
    {
      "metadata": {
        "id": "gnJFOFwpQjV9",
        "colab_type": "code",
        "colab": {
          "base_uri": "https://localhost:8080/",
          "height": 53
        },
        "outputId": "2730a6b5-0a72-460a-bdcc-db468f0f1ef9"
      },
      "cell_type": "code",
      "source": [
        "#@title Set the desired partition of test and train samples { run: \"auto\", form-width: \"30%\", display-mode: \"both\" }\n",
        "border = 6100 #@param {type:\"slider\", min:4000, max:6100, step:30}\n",
        "train_input, train_output = data[:border], target[:border]\n",
        "test_input, test_output = data[border:], target[border:]\n",
        "\n",
        "print(\"Train set contains\", len(train_input))\n",
        "print(\"Test set contains\", len(test_input))"
      ],
      "execution_count": 173,
      "outputs": [
        {
          "output_type": "stream",
          "text": [
            "Train set contains 6100\n",
            "Test set contains 34\n"
          ],
          "name": "stdout"
        }
      ]
    },
    {
      "metadata": {
        "id": "KdueMwofOzg4",
        "colab_type": "text"
      },
      "cell_type": "markdown",
      "source": [
        "##  Model"
      ]
    },
    {
      "metadata": {
        "id": "h2TevvaLPGZW",
        "colab_type": "text"
      },
      "cell_type": "markdown",
      "source": [
        "We will use a simple model with input layer of 4 neurons, a single hidden layer with 20 neurons and 1 output neuron"
      ]
    },
    {
      "metadata": {
        "id": "e2PvleuRPY__",
        "colab_type": "code",
        "colab": {}
      },
      "cell_type": "code",
      "source": [
        "tf.enable_eager_execution()"
      ],
      "execution_count": 0,
      "outputs": []
    },
    {
      "metadata": {
        "id": "7KmKSmm-YL5U",
        "colab_type": "text"
      },
      "cell_type": "markdown",
      "source": [
        "### Keras model definition"
      ]
    },
    {
      "metadata": {
        "id": "TCiZPeGAPuhZ",
        "colab_type": "code",
        "colab": {}
      },
      "cell_type": "code",
      "source": [
        "model = keras.Sequential()\n",
        "model.add(keras.layers.Dense(20, input_dim=4, activation=tf.nn.sigmoid))\n",
        "model.add(keras.layers.Dense(1, activation=tf.nn.sigmoid))"
      ],
      "execution_count": 0,
      "outputs": []
    },
    {
      "metadata": {
        "id": "TeRWlA-oYU2b",
        "colab_type": "text"
      },
      "cell_type": "markdown",
      "source": [
        "### Keras model compile"
      ]
    },
    {
      "metadata": {
        "id": "SPIy9SW8PyFC",
        "colab_type": "code",
        "colab": {}
      },
      "cell_type": "code",
      "source": [
        "model.compile(loss='mse',\n",
        "              optimizer=tf.train.GradientDescentOptimizer(learning_rate=10.),\n",
        "              metrics=['mse', 'mae', r2])"
      ],
      "execution_count": 0,
      "outputs": []
    },
    {
      "metadata": {
        "id": "nzQE8hoXWRNb",
        "colab_type": "text"
      },
      "cell_type": "markdown",
      "source": [
        "Model summary shows the architecture of the keras model"
      ]
    },
    {
      "metadata": {
        "id": "2g_Nn5dwWL2U",
        "colab_type": "code",
        "colab": {
          "base_uri": "https://localhost:8080/",
          "height": 233
        },
        "outputId": "4c6a2f52-801b-49cc-dd03-f4d889fae560"
      },
      "cell_type": "code",
      "source": [
        "print(model.summary())"
      ],
      "execution_count": 191,
      "outputs": [
        {
          "output_type": "stream",
          "text": [
            "_________________________________________________________________\n",
            "Layer (type)                 Output Shape              Param #   \n",
            "=================================================================\n",
            "dense_8 (Dense)              (None, 20)                100       \n",
            "_________________________________________________________________\n",
            "dense_9 (Dense)              (None, 1)                 21        \n",
            "=================================================================\n",
            "Total params: 121\n",
            "Trainable params: 121\n",
            "Non-trainable params: 0\n",
            "_________________________________________________________________\n",
            "None\n"
          ],
          "name": "stdout"
        }
      ]
    },
    {
      "metadata": {
        "id": "1yF62adxYEPh",
        "colab_type": "text"
      },
      "cell_type": "markdown",
      "source": [
        "## Results"
      ]
    },
    {
      "metadata": {
        "id": "sX3hnRLUPz_b",
        "colab_type": "code",
        "colab": {
          "base_uri": "https://localhost:8080/",
          "height": 1477
        },
        "cellView": "both",
        "outputId": "bc63b6c9-1879-4c8f-f23b-29a0ee7b64ce"
      },
      "cell_type": "code",
      "source": [
        "#@title Hyperparameters { run: \"auto\", form-width: \"30%\" }\n",
        "epochs = 40 #@param {type:\"integer\"}\n",
        "history = model.fit(\n",
        "    train_input, train_output,\n",
        "    epochs=epochs,\n",
        "    verbose=1,\n",
        "    batch_size=35,\n",
        "    validation_split=0.25)"
      ],
      "execution_count": 208,
      "outputs": [
        {
          "output_type": "stream",
          "text": [
            "Epoch 1/40\n",
            "131/131 [==============================] - 2s 12ms/step - loss: 0.0015 - mean_squared_error: 0.0015 - mean_absolute_error: 0.0130 - r2: 0.9882 - val_loss: 4.5630e-04 - val_mean_squared_error: 4.5630e-04 - val_mean_absolute_error: 0.0140 - val_r2: 0.9963\n",
            "Epoch 2/40\n",
            "131/131 [==============================] - 2s 12ms/step - loss: 3.1636e-04 - mean_squared_error: 3.1636e-04 - mean_absolute_error: 0.0107 - r2: 0.9974 - val_loss: 2.7469e-05 - val_mean_squared_error: 2.7469e-05 - val_mean_absolute_error: 0.0042 - val_r2: 0.9998\n",
            "Epoch 3/40\n",
            "131/131 [==============================] - 2s 12ms/step - loss: 7.1786e-05 - mean_squared_error: 7.1786e-05 - mean_absolute_error: 0.0050 - r2: 0.9995 - val_loss: 1.9610e-05 - val_mean_squared_error: 1.9610e-05 - val_mean_absolute_error: 0.0034 - val_r2: 0.9999\n",
            "Epoch 4/40\n",
            "131/131 [==============================] - 2s 12ms/step - loss: 4.8888e-05 - mean_squared_error: 4.8888e-05 - mean_absolute_error: 0.0048 - r2: 0.9996 - val_loss: 1.8623e-05 - val_mean_squared_error: 1.8623e-05 - val_mean_absolute_error: 0.0033 - val_r2: 0.9999\n",
            "Epoch 5/40\n",
            "131/131 [==============================] - 2s 12ms/step - loss: 3.8586e-05 - mean_squared_error: 3.8586e-05 - mean_absolute_error: 0.0042 - r2: 0.9997 - val_loss: 2.3604e-05 - val_mean_squared_error: 2.3604e-05 - val_mean_absolute_error: 0.0041 - val_r2: 0.9998\n",
            "Epoch 6/40\n",
            "131/131 [==============================] - 2s 12ms/step - loss: 2.8065e-05 - mean_squared_error: 2.8065e-05 - mean_absolute_error: 0.0037 - r2: 0.9998 - val_loss: 1.1961e-05 - val_mean_squared_error: 1.1961e-05 - val_mean_absolute_error: 0.0025 - val_r2: 0.9999\n",
            "Epoch 7/40\n",
            "131/131 [==============================] - 2s 12ms/step - loss: 3.0104e-05 - mean_squared_error: 3.0104e-05 - mean_absolute_error: 0.0036 - r2: 0.9998 - val_loss: 1.3661e-05 - val_mean_squared_error: 1.3661e-05 - val_mean_absolute_error: 0.0027 - val_r2: 0.9999\n",
            "Epoch 8/40\n",
            "131/131 [==============================] - 2s 12ms/step - loss: 1.7841e-05 - mean_squared_error: 1.7841e-05 - mean_absolute_error: 0.0030 - r2: 0.9999 - val_loss: 8.8157e-06 - val_mean_squared_error: 8.8157e-06 - val_mean_absolute_error: 0.0020 - val_r2: 0.9999\n",
            "Epoch 9/40\n",
            "131/131 [==============================] - 2s 12ms/step - loss: 1.8928e-05 - mean_squared_error: 1.8928e-05 - mean_absolute_error: 0.0030 - r2: 0.9999 - val_loss: 9.3494e-06 - val_mean_squared_error: 9.3494e-06 - val_mean_absolute_error: 0.0023 - val_r2: 0.9999\n",
            "Epoch 10/40\n",
            "131/131 [==============================] - 2s 12ms/step - loss: 6.4899e-05 - mean_squared_error: 6.4899e-05 - mean_absolute_error: 0.0040 - r2: 0.9994 - val_loss: 8.9502e-06 - val_mean_squared_error: 8.9502e-06 - val_mean_absolute_error: 0.0021 - val_r2: 0.9999\n",
            "Epoch 11/40\n",
            "131/131 [==============================] - 2s 12ms/step - loss: 4.9401e-05 - mean_squared_error: 4.9401e-05 - mean_absolute_error: 0.0044 - r2: 0.9996 - val_loss: 7.5531e-06 - val_mean_squared_error: 7.5531e-06 - val_mean_absolute_error: 0.0020 - val_r2: 0.9999\n",
            "Epoch 12/40\n",
            "131/131 [==============================] - 2s 12ms/step - loss: 1.9330e-04 - mean_squared_error: 1.9330e-04 - mean_absolute_error: 0.0059 - r2: 0.9984 - val_loss: 9.5539e-06 - val_mean_squared_error: 9.5539e-06 - val_mean_absolute_error: 0.0021 - val_r2: 0.9999\n",
            "Epoch 13/40\n",
            "131/131 [==============================] - 2s 12ms/step - loss: 2.9104e-05 - mean_squared_error: 2.9104e-05 - mean_absolute_error: 0.0034 - r2: 0.9998 - val_loss: 2.3674e-05 - val_mean_squared_error: 2.3674e-05 - val_mean_absolute_error: 0.0039 - val_r2: 0.9998\n",
            "Epoch 14/40\n",
            "131/131 [==============================] - 1s 11ms/step - loss: 4.9092e-05 - mean_squared_error: 4.9092e-05 - mean_absolute_error: 0.0040 - r2: 0.9996 - val_loss: 1.0307e-05 - val_mean_squared_error: 1.0307e-05 - val_mean_absolute_error: 0.0022 - val_r2: 0.9999\n",
            "Epoch 15/40\n",
            "131/131 [==============================] - 2s 11ms/step - loss: 8.4234e-05 - mean_squared_error: 8.4234e-05 - mean_absolute_error: 0.0050 - r2: 0.9993 - val_loss: 8.5463e-05 - val_mean_squared_error: 8.5463e-05 - val_mean_absolute_error: 0.0075 - val_r2: 0.9993\n",
            "Epoch 16/40\n",
            "131/131 [==============================] - 1s 11ms/step - loss: 1.7875e-05 - mean_squared_error: 1.7875e-05 - mean_absolute_error: 0.0029 - r2: 0.9999 - val_loss: 9.7853e-06 - val_mean_squared_error: 9.7853e-06 - val_mean_absolute_error: 0.0022 - val_r2: 0.9999\n",
            "Epoch 17/40\n",
            "131/131 [==============================] - 2s 12ms/step - loss: 2.1188e-05 - mean_squared_error: 2.1188e-05 - mean_absolute_error: 0.0030 - r2: 0.9998 - val_loss: 1.8716e-05 - val_mean_squared_error: 1.8716e-05 - val_mean_absolute_error: 0.0031 - val_r2: 0.9998\n",
            "Epoch 18/40\n",
            "131/131 [==============================] - 1s 11ms/step - loss: 1.4003e-05 - mean_squared_error: 1.4003e-05 - mean_absolute_error: 0.0026 - r2: 0.9999 - val_loss: 2.3550e-05 - val_mean_squared_error: 2.3550e-05 - val_mean_absolute_error: 0.0039 - val_r2: 0.9998\n",
            "Epoch 19/40\n",
            "131/131 [==============================] - 1s 11ms/step - loss: 1.3950e-05 - mean_squared_error: 1.3950e-05 - mean_absolute_error: 0.0026 - r2: 0.9999 - val_loss: 1.5971e-05 - val_mean_squared_error: 1.5971e-05 - val_mean_absolute_error: 0.0030 - val_r2: 0.9999\n",
            "Epoch 20/40\n",
            "131/131 [==============================] - 2s 11ms/step - loss: 5.8597e-05 - mean_squared_error: 5.8597e-05 - mean_absolute_error: 0.0041 - r2: 0.9995 - val_loss: 8.9360e-06 - val_mean_squared_error: 8.9360e-06 - val_mean_absolute_error: 0.0022 - val_r2: 0.9999\n",
            "Epoch 21/40\n",
            "131/131 [==============================] - 1s 11ms/step - loss: 1.1566e-05 - mean_squared_error: 1.1566e-05 - mean_absolute_error: 0.0023 - r2: 0.9999 - val_loss: 7.6202e-06 - val_mean_squared_error: 7.6202e-06 - val_mean_absolute_error: 0.0020 - val_r2: 0.9999\n",
            "Epoch 22/40\n",
            "131/131 [==============================] - 1s 11ms/step - loss: 1.3054e-05 - mean_squared_error: 1.3054e-05 - mean_absolute_error: 0.0023 - r2: 0.9999 - val_loss: 6.3580e-06 - val_mean_squared_error: 6.3580e-06 - val_mean_absolute_error: 0.0019 - val_r2: 1.0000\n",
            "Epoch 23/40\n",
            "131/131 [==============================] - 1s 11ms/step - loss: 1.1922e-05 - mean_squared_error: 1.1922e-05 - mean_absolute_error: 0.0023 - r2: 0.9999 - val_loss: 7.1340e-06 - val_mean_squared_error: 7.1340e-06 - val_mean_absolute_error: 0.0018 - val_r2: 0.9999\n",
            "Epoch 24/40\n",
            "131/131 [==============================] - 1s 11ms/step - loss: 8.1993e-06 - mean_squared_error: 8.1993e-06 - mean_absolute_error: 0.0020 - r2: 0.9999 - val_loss: 5.1825e-06 - val_mean_squared_error: 5.1825e-06 - val_mean_absolute_error: 0.0016 - val_r2: 1.0000\n",
            "Epoch 25/40\n",
            "131/131 [==============================] - 1s 11ms/step - loss: 3.6295e-05 - mean_squared_error: 3.6295e-05 - mean_absolute_error: 0.0034 - r2: 0.9997 - val_loss: 4.7790e-06 - val_mean_squared_error: 4.7790e-06 - val_mean_absolute_error: 0.0016 - val_r2: 1.0000\n",
            "Epoch 26/40\n",
            "131/131 [==============================] - 1s 11ms/step - loss: 2.1078e-05 - mean_squared_error: 2.1078e-05 - mean_absolute_error: 0.0027 - r2: 0.9998 - val_loss: 7.3742e-06 - val_mean_squared_error: 7.3742e-06 - val_mean_absolute_error: 0.0021 - val_r2: 0.9999\n",
            "Epoch 27/40\n",
            "131/131 [==============================] - 2s 12ms/step - loss: 9.7945e-06 - mean_squared_error: 9.7945e-06 - mean_absolute_error: 0.0022 - r2: 0.9999 - val_loss: 7.4242e-06 - val_mean_squared_error: 7.4242e-06 - val_mean_absolute_error: 0.0020 - val_r2: 0.9999\n",
            "Epoch 28/40\n",
            "131/131 [==============================] - 2s 12ms/step - loss: 9.9825e-06 - mean_squared_error: 9.9825e-06 - mean_absolute_error: 0.0021 - r2: 0.9999 - val_loss: 5.9706e-06 - val_mean_squared_error: 5.9706e-06 - val_mean_absolute_error: 0.0017 - val_r2: 1.0000\n",
            "Epoch 29/40\n",
            "131/131 [==============================] - 1s 11ms/step - loss: 1.1793e-05 - mean_squared_error: 1.1793e-05 - mean_absolute_error: 0.0023 - r2: 0.9999 - val_loss: 4.2710e-06 - val_mean_squared_error: 4.2710e-06 - val_mean_absolute_error: 0.0015 - val_r2: 1.0000\n",
            "Epoch 30/40\n",
            "131/131 [==============================] - 1s 11ms/step - loss: 3.7033e-05 - mean_squared_error: 3.7033e-05 - mean_absolute_error: 0.0031 - r2: 0.9997 - val_loss: 7.9985e-06 - val_mean_squared_error: 7.9985e-06 - val_mean_absolute_error: 0.0021 - val_r2: 0.9999\n",
            "Epoch 31/40\n",
            "131/131 [==============================] - 1s 11ms/step - loss: 1.0389e-05 - mean_squared_error: 1.0389e-05 - mean_absolute_error: 0.0022 - r2: 0.9999 - val_loss: 1.1712e-05 - val_mean_squared_error: 1.1712e-05 - val_mean_absolute_error: 0.0028 - val_r2: 0.9999\n",
            "Epoch 32/40\n",
            "131/131 [==============================] - 2s 11ms/step - loss: 1.4159e-05 - mean_squared_error: 1.4159e-05 - mean_absolute_error: 0.0024 - r2: 0.9999 - val_loss: 3.0458e-06 - val_mean_squared_error: 3.0458e-06 - val_mean_absolute_error: 0.0012 - val_r2: 1.0000\n",
            "Epoch 33/40\n",
            "131/131 [==============================] - 1s 11ms/step - loss: 1.1430e-05 - mean_squared_error: 1.1430e-05 - mean_absolute_error: 0.0022 - r2: 0.9999 - val_loss: 5.7483e-06 - val_mean_squared_error: 5.7483e-06 - val_mean_absolute_error: 0.0016 - val_r2: 1.0000\n",
            "Epoch 34/40\n",
            "131/131 [==============================] - 1s 11ms/step - loss: 1.3737e-05 - mean_squared_error: 1.3737e-05 - mean_absolute_error: 0.0023 - r2: 0.9999 - val_loss: 4.6532e-06 - val_mean_squared_error: 4.6532e-06 - val_mean_absolute_error: 0.0017 - val_r2: 1.0000\n",
            "Epoch 35/40\n",
            "131/131 [==============================] - 1s 11ms/step - loss: 8.6586e-06 - mean_squared_error: 8.6586e-06 - mean_absolute_error: 0.0019 - r2: 0.9999 - val_loss: 2.7284e-06 - val_mean_squared_error: 2.7284e-06 - val_mean_absolute_error: 0.0011 - val_r2: 1.0000\n",
            "Epoch 36/40\n",
            "131/131 [==============================] - 1s 11ms/step - loss: 4.6245e-06 - mean_squared_error: 4.6245e-06 - mean_absolute_error: 0.0016 - r2: 1.0000 - val_loss: 5.9299e-06 - val_mean_squared_error: 5.9299e-06 - val_mean_absolute_error: 0.0019 - val_r2: 1.0000\n",
            "Epoch 37/40\n",
            "131/131 [==============================] - 1s 11ms/step - loss: 7.4211e-06 - mean_squared_error: 7.4211e-06 - mean_absolute_error: 0.0019 - r2: 0.9999 - val_loss: 2.2196e-05 - val_mean_squared_error: 2.2196e-05 - val_mean_absolute_error: 0.0039 - val_r2: 0.9998\n",
            "Epoch 38/40\n",
            "131/131 [==============================] - 1s 11ms/step - loss: 1.1457e-05 - mean_squared_error: 1.1457e-05 - mean_absolute_error: 0.0020 - r2: 0.9999 - val_loss: 6.6888e-06 - val_mean_squared_error: 6.6888e-06 - val_mean_absolute_error: 0.0021 - val_r2: 0.9999\n",
            "Epoch 39/40\n",
            "131/131 [==============================] - 1s 11ms/step - loss: 2.5038e-05 - mean_squared_error: 2.5038e-05 - mean_absolute_error: 0.0027 - r2: 0.9998 - val_loss: 7.0645e-06 - val_mean_squared_error: 7.0645e-06 - val_mean_absolute_error: 0.0021 - val_r2: 0.9999\n",
            "Epoch 40/40\n",
            "131/131 [==============================] - 1s 11ms/step - loss: 1.1651e-05 - mean_squared_error: 1.1651e-05 - mean_absolute_error: 0.0022 - r2: 0.9999 - val_loss: 2.6504e-06 - val_mean_squared_error: 2.6504e-06 - val_mean_absolute_error: 0.0011 - val_r2: 1.0000\n"
          ],
          "name": "stdout"
        }
      ]
    },
    {
      "metadata": {
        "id": "XGYfo3-eP8L8",
        "colab_type": "code",
        "colab": {
          "base_uri": "https://localhost:8080/",
          "height": 107
        },
        "outputId": "c70343a8-43e5-4923-c5cf-e5091f261929"
      },
      "cell_type": "code",
      "source": [
        "loss, mse, mae, r2_value = model.evaluate(test_input, test_output)\n",
        "\n",
        "print(\"MSE: \", mse)\n",
        "print(\"MAE: \", mae)\n",
        "print(\"R2:  \", r2_value)\n",
        "print(\"Loss:\", loss)"
      ],
      "execution_count": 209,
      "outputs": [
        {
          "output_type": "stream",
          "text": [
            "2/2 [==============================] - 0s 11ms/step\n",
            "MSE:  7.700732700922185e-07\n",
            "MAE:  0.0007674317149554982\n",
            "R2:   0.9616656618959764\n",
            "Loss: 7.700732700922185e-07\n"
          ],
          "name": "stdout"
        }
      ]
    },
    {
      "metadata": {
        "id": "V3V6ouyo1Xfu",
        "colab_type": "code",
        "colab": {
          "base_uri": "https://localhost:8080/",
          "height": 376
        },
        "outputId": "3ec7dc01-ac7f-4107-a5ae-6e47bf077584"
      },
      "cell_type": "code",
      "source": [
        "import matplotlib.pyplot as plt\n",
        "\n",
        "# Plot training & validation accuracy values\n",
        "plt.plot(history.history['loss'])\n",
        "plt.plot(history.history['val_loss'])\n",
        "plt.title('Model loss')\n",
        "plt.ylabel('Loss')\n",
        "plt.xlabel('Epoch')\n",
        "plt.legend(['Train', 'Test'], loc='upper right')\n",
        "plt.show()"
      ],
      "execution_count": 211,
      "outputs": [
        {
          "output_type": "display_data",
          "data": {
            "image/png": "[encoded data removed]",
            "text/plain": [
              "<matplotlib.figure.Figure at 0x7f83cacb9208>"
            ]
          },
          "metadata": {
            "tags": []
          }
        }
      ]
    },
    {
      "metadata": {
        "id": "Q-kdVmyVYieY",
        "colab_type": "text"
      },
      "cell_type": "markdown",
      "source": [
        "## Conclusion"
      ]
    },
    {
      "metadata": {
        "id": "vfOWiI-lDak0",
        "colab_type": "text"
      },
      "cell_type": "markdown",
      "source": [
        "The model passed proof of concept phase, it does learn and gives OK prediction, more data will lead to even more accurate results."
      ]
    }
  ]
}