{
  "nbformat": 4,
  "nbformat_minor": 0,
  "metadata": {
    "colab": {
      "name": "soya_modeling.ipynb",
      "version": "0.3.2",
      "provenance": [],
      "collapsed_sections": [],
      "toc_visible": true
    },
    "kernelspec": {
      "name": "python3",
      "display_name": "Python 3"
    },
    "accelerator": "GPU"
  },
  "cells": [
    {
      "metadata": {
        "id": "uZo3etVD_Xnq",
        "colab_type": "text"
      },
      "cell_type": "markdown",
      "source": [
        "# Soy blossom period prediction model"
      ]
    },
    {
      "metadata": {
        "id": "8uvy2UF6O_zR",
        "colab_type": "text"
      },
      "cell_type": "markdown",
      "source": [
        "## Setup"
      ]
    },
    {
      "metadata": {
        "id": "W5rFAVaqARsQ",
        "colab_type": "text"
      },
      "cell_type": "markdown",
      "source": [
        "### Configure environment"
      ]
    },
    {
      "metadata": {
        "id": "4ji6Pv5z19yh",
        "colab_type": "code",
        "outputId": "e371e46f-5d8e-469c-e08b-9f632ecf355a",
        "colab": {
          "base_uri": "https://localhost:8080/",
          "height": 71
        }
      },
      "cell_type": "code",
      "source": [
        "!pip install pydot"
      ],
      "execution_count": 1,
      "outputs": [
        {
          "output_type": "stream",
          "text": [
            "Requirement already satisfied: pydot in /usr/local/lib/python3.6/dist-packages (1.3.0)\n",
            "Requirement already satisfied: pyparsing>=2.1.4 in /usr/local/lib/python3.6/dist-packages (from pydot) (2.3.0)\n"
          ],
          "name": "stdout"
        }
      ]
    },
    {
      "metadata": {
        "id": "TOEIMPH508ai",
        "colab_type": "text"
      },
      "cell_type": "markdown",
      "source": [
        "### Show the machine details the environment is running on"
      ]
    },
    {
      "metadata": {
        "id": "uEjfrbGN1VAg",
        "colab_type": "text"
      },
      "cell_type": "markdown",
      "source": [
        "Show CPU info"
      ]
    },
    {
      "metadata": {
        "id": "slRC3KmWy9B0",
        "colab_type": "code",
        "outputId": "666a8d34-0746-45e0-964b-f5d529a39d20",
        "colab": {
          "base_uri": "https://localhost:8080/",
          "height": 955
        }
      },
      "cell_type": "code",
      "source": [
        "!cat /proc/cpuinfo"
      ],
      "execution_count": 0,
      "outputs": [
        {
          "output_type": "stream",
          "text": [
            "processor\t: 0\n",
            "vendor_id\t: GenuineIntel\n",
            "cpu family\t: 6\n",
            "model\t\t: 63\n",
            "model name\t: Intel(R) Xeon(R) CPU @ 2.30GHz\n",
            "stepping\t: 0\n",
            "microcode\t: 0x1\n",
            "cpu MHz\t\t: 2300.000\n",
            "cache size\t: 46080 KB\n",
            "physical id\t: 0\n",
            "siblings\t: 2\n",
            "core id\t\t: 0\n",
            "cpu cores\t: 1\n",
            "apicid\t\t: 0\n",
            "initial apicid\t: 0\n",
            "fpu\t\t: yes\n",
            "fpu_exception\t: yes\n",
            "cpuid level\t: 13\n",
            "wp\t\t: yes\n",
            "flags\t\t: fpu vme de pse tsc msr pae mce cx8 apic sep mtrr pge mca cmov pat pse36 clflush mmx fxsr sse sse2 ss ht syscall nx pdpe1gb rdtscp lm constant_tsc rep_good nopl xtopology nonstop_tsc cpuid pni pclmulqdq ssse3 fma cx16 sse4_1 sse4_2 x2apic movbe popcnt aes xsave avx f16c rdrand hypervisor lahf_lm abm pti ssbd ibrs ibpb stibp fsgsbase tsc_adjust bmi1 avx2 smep bmi2 erms xsaveopt arat arch_capabilities\n",
            "bugs\t\t: cpu_meltdown spectre_v1 spectre_v2 spec_store_bypass l1tf\n",
            "bogomips\t: 4600.00\n",
            "clflush size\t: 64\n",
            "cache_alignment\t: 64\n",
            "address sizes\t: 46 bits physical, 48 bits virtual\n",
            "power management:\n",
            "\n",
            "processor\t: 1\n",
            "vendor_id\t: GenuineIntel\n",
            "cpu family\t: 6\n",
            "model\t\t: 63\n",
            "model name\t: Intel(R) Xeon(R) CPU @ 2.30GHz\n",
            "stepping\t: 0\n",
            "microcode\t: 0x1\n",
            "cpu MHz\t\t: 2300.000\n",
            "cache size\t: 46080 KB\n",
            "physical id\t: 0\n",
            "siblings\t: 2\n",
            "core id\t\t: 0\n",
            "cpu cores\t: 1\n",
            "apicid\t\t: 1\n",
            "initial apicid\t: 1\n",
            "fpu\t\t: yes\n",
            "fpu_exception\t: yes\n",
            "cpuid level\t: 13\n",
            "wp\t\t: yes\n",
            "flags\t\t: fpu vme de pse tsc msr pae mce cx8 apic sep mtrr pge mca cmov pat pse36 clflush mmx fxsr sse sse2 ss ht syscall nx pdpe1gb rdtscp lm constant_tsc rep_good nopl xtopology nonstop_tsc cpuid pni pclmulqdq ssse3 fma cx16 sse4_1 sse4_2 x2apic movbe popcnt aes xsave avx f16c rdrand hypervisor lahf_lm abm pti ssbd ibrs ibpb stibp fsgsbase tsc_adjust bmi1 avx2 smep bmi2 erms xsaveopt arat arch_capabilities\n",
            "bugs\t\t: cpu_meltdown spectre_v1 spectre_v2 spec_store_bypass l1tf\n",
            "bogomips\t: 4600.00\n",
            "clflush size\t: 64\n",
            "cache_alignment\t: 64\n",
            "address sizes\t: 46 bits physical, 48 bits virtual\n",
            "power management:\n",
            "\n"
          ],
          "name": "stdout"
        }
      ]
    },
    {
      "metadata": {
        "id": "DCtwxw0i1YA7",
        "colab_type": "text"
      },
      "cell_type": "markdown",
      "source": [
        "Show RAM info"
      ]
    },
    {
      "metadata": {
        "id": "cRZfNgbA1Rmq",
        "colab_type": "code",
        "outputId": "18382460-4efb-4511-d469-bf5f77294707",
        "colab": {
          "base_uri": "https://localhost:8080/",
          "height": 782
        }
      },
      "cell_type": "code",
      "source": [
        "!cat /proc/meminfo"
      ],
      "execution_count": 0,
      "outputs": [
        {
          "output_type": "stream",
          "text": [
            "MemTotal:       13335204 kB\n",
            "MemFree:        11239908 kB\n",
            "MemAvailable:   12657368 kB\n",
            "Buffers:           44244 kB\n",
            "Cached:          1548792 kB\n",
            "SwapCached:            0 kB\n",
            "Active:           495816 kB\n",
            "Inactive:        1374508 kB\n",
            "Active(anon):     256800 kB\n",
            "Inactive(anon):      324 kB\n",
            "Active(file):     239016 kB\n",
            "Inactive(file):  1374184 kB\n",
            "Unevictable:           0 kB\n",
            "Mlocked:               0 kB\n",
            "SwapTotal:             0 kB\n",
            "SwapFree:              0 kB\n",
            "Dirty:              1332 kB\n",
            "Writeback:             0 kB\n",
            "AnonPages:        277304 kB\n",
            "Mapped:           154004 kB\n",
            "Shmem:               840 kB\n",
            "Slab:             120968 kB\n",
            "SReclaimable:      92012 kB\n",
            "SUnreclaim:        28956 kB\n",
            "KernelStack:        3552 kB\n",
            "PageTables:         4456 kB\n",
            "NFS_Unstable:          0 kB\n",
            "Bounce:                0 kB\n",
            "WritebackTmp:          0 kB\n",
            "CommitLimit:     6667600 kB\n",
            "Committed_AS:    1640532 kB\n",
            "VmallocTotal:   34359738367 kB\n",
            "VmallocUsed:           0 kB\n",
            "VmallocChunk:          0 kB\n",
            "AnonHugePages:         0 kB\n",
            "ShmemHugePages:        0 kB\n",
            "ShmemPmdMapped:        0 kB\n",
            "HugePages_Total:       0\n",
            "HugePages_Free:        0\n",
            "HugePages_Rsvd:        0\n",
            "HugePages_Surp:        0\n",
            "Hugepagesize:       2048 kB\n",
            "DirectMap4k:       75764 kB\n",
            "DirectMap2M:     4118528 kB\n",
            "DirectMap1G:    11534336 kB\n"
          ],
          "name": "stdout"
        }
      ]
    },
    {
      "metadata": {
        "id": "98yFKWiy1mOo",
        "colab_type": "text"
      },
      "cell_type": "markdown",
      "source": [
        "Show GPU info"
      ]
    },
    {
      "metadata": {
        "id": "sCustmJB1pRd",
        "colab_type": "code",
        "outputId": "29624631-3d76-4d54-a6c2-714d885966be",
        "colab": {
          "base_uri": "https://localhost:8080/",
          "height": 496
        }
      },
      "cell_type": "code",
      "source": [
        "from tensorflow.python.client import device_lib\n",
        "device_lib.list_local_devices()"
      ],
      "execution_count": 0,
      "outputs": [
        {
          "output_type": "execute_result",
          "data": {
            "text/plain": [
              "[name: \"/device:CPU:0\"\n",
              " device_type: \"CPU\"\n",
              " memory_limit: 268435456\n",
              " locality {\n",
              " }\n",
              " incarnation: 312939216623794097, name: \"/device:XLA_CPU:0\"\n",
              " device_type: \"XLA_CPU\"\n",
              " memory_limit: 17179869184\n",
              " locality {\n",
              " }\n",
              " incarnation: 10495980708704080951\n",
              " physical_device_desc: \"device: XLA_CPU device\", name: \"/device:XLA_GPU:0\"\n",
              " device_type: \"XLA_GPU\"\n",
              " memory_limit: 17179869184\n",
              " locality {\n",
              " }\n",
              " incarnation: 4835293293178213036\n",
              " physical_device_desc: \"device: XLA_GPU device\", name: \"/device:GPU:0\"\n",
              " device_type: \"GPU\"\n",
              " memory_limit: 11281491559\n",
              " locality {\n",
              "   bus_id: 1\n",
              "   links {\n",
              "   }\n",
              " }\n",
              " incarnation: 5461254189511171028\n",
              " physical_device_desc: \"device: 0, name: Tesla K80, pci bus id: 0000:00:04.0, compute capability: 3.7\"]"
            ]
          },
          "metadata": {
            "tags": []
          },
          "execution_count": 4
        }
      ]
    },
    {
      "metadata": {
        "id": "CABv94y8HL3Z",
        "colab_type": "text"
      },
      "cell_type": "markdown",
      "source": [
        "### Import modules"
      ]
    },
    {
      "metadata": {
        "id": "b7tG1GdlF4V5",
        "colab_type": "code",
        "outputId": "33320f2c-b84c-4845-9cab-5d82e72d37b9",
        "colab": {
          "base_uri": "https://localhost:8080/",
          "height": 34
        }
      },
      "cell_type": "code",
      "source": [
        "from matplotlib import cm\n",
        "from matplotlib import gridspec\n",
        "from matplotlib import pyplot as plt\n",
        "import numpy as np\n",
        "import pandas as pd\n",
        "from sklearn import metrics\n",
        "import random\n",
        "\n",
        "import tensorflow as tf\n",
        "import keras\n",
        "from sklearn.metrics import r2_score as r2_metric\n",
        "from keras import optimizers\n",
        "from keras import backend as K"
      ],
      "execution_count": 2,
      "outputs": [
        {
          "output_type": "stream",
          "text": [
            "Using TensorFlow backend.\n"
          ],
          "name": "stderr"
        }
      ]
    },
    {
      "metadata": {
        "id": "fCkdb0IvyopK",
        "colab_type": "code",
        "colab": {
          "base_uri": "https://localhost:8080/",
          "height": 34
        },
        "outputId": "ca6e4142-6620-49aa-a215-a077b1d6453b"
      },
      "cell_type": "code",
      "source": [
        "def r2(y_true, y_pred):\n",
        "    SS_res =  K.sum(K.square( y_true-y_pred )) \n",
        "    SS_tot = K.sum(K.square( y_true - K.mean(y_true) ) ) \n",
        "    return ( 1 - SS_res/(SS_tot + K.epsilon()) )"
      ],
      "execution_count": 8,
      "outputs": [
        {
          "output_type": "stream",
          "text": [
            "Using TensorFlow backend.\n"
          ],
          "name": "stderr"
        }
      ]
    },
    {
      "metadata": {
        "id": "nJCZh6DAjeXR",
        "colab_type": "text"
      },
      "cell_type": "markdown",
      "source": [
        "### Set up the dataset"
      ]
    },
    {
      "metadata": {
        "id": "jLMzr6Q9HjOn",
        "colab_type": "text"
      },
      "cell_type": "markdown",
      "source": [
        "Download a dataset from shared Drive folder. "
      ]
    },
    {
      "metadata": {
        "id": "JCbXhbKiHppQ",
        "colab_type": "code",
        "colab": {}
      },
      "cell_type": "code",
      "source": [
        "!pip install -U -q PyDrive\n",
        "from pydrive.auth import GoogleAuth\n",
        "from pydrive.drive import GoogleDrive\n",
        "from google.colab import auth\n",
        "from oauth2client.client import GoogleCredentials\n",
        "\n",
        "# 1. Authenticate and create the PyDrive client.\n",
        "auth.authenticate_user()\n",
        "gauth = GoogleAuth()\n",
        "gauth.credentials = GoogleCredentials.get_application_default()\n",
        "drive = GoogleDrive(gauth)\n",
        "\n",
        "#2. Get the file\n",
        "downloaded = drive.CreateFile({'id':'1OIQG0qbmaaXUKWvYKenbI9CxekUkkUET'})\n",
        "downloaded.GetContentFile('soydata.csv')"
      ],
      "execution_count": 0,
      "outputs": []
    },
    {
      "metadata": {
        "id": "ore9JMXyjk_q",
        "colab_type": "text"
      },
      "cell_type": "markdown",
      "source": [
        "Import data set into pandas dataframe. The dataset contains a missing value on one of the key features the model will be training with, so we need to remove that explicitly"
      ]
    },
    {
      "metadata": {
        "id": "cMyVIEldRP9u",
        "colab_type": "code",
        "colab": {
          "base_uri": "https://localhost:8080/",
          "height": 235
        },
        "outputId": "346f9ccc-9f06-4ed2-d945-f5474f4ddc4a"
      },
      "cell_type": "code",
      "source": [
        "df = pd.read_csv('soydata.csv', index_col=[0, 1], prefix='Experiment')\n",
        "df.dropna()\n",
        "df.head(5)"
      ],
      "execution_count": 10,
      "outputs": [
        {
          "output_type": "execute_result",
          "data": {
            "text/html": [
              "<div>\n",
              "<style scoped>\n",
              "    .dataframe tbody tr th:only-of-type {\n",
              "        vertical-align: middle;\n",
              "    }\n",
              "\n",
              "    .dataframe tbody tr th {\n",
              "        vertical-align: top;\n",
              "    }\n",
              "\n",
              "    .dataframe thead th {\n",
              "        text-align: right;\n",
              "    }\n",
              "</style>\n",
              "<table border=\"1\" class=\"dataframe\">\n",
              "  <thead>\n",
              "    <tr style=\"text-align: right;\">\n",
              "      <th></th>\n",
              "      <th></th>\n",
              "      <th>t_min</th>\n",
              "      <th>t_max</th>\n",
              "      <th>dlen</th>\n",
              "      <th>day</th>\n",
              "      <th>station</th>\n",
              "      <th>category</th>\n",
              "      <th>name</th>\n",
              "      <th>state</th>\n",
              "    </tr>\n",
              "    <tr>\n",
              "      <th></th>\n",
              "      <th>Unnamed: 1</th>\n",
              "      <th></th>\n",
              "      <th></th>\n",
              "      <th></th>\n",
              "      <th></th>\n",
              "      <th></th>\n",
              "      <th></th>\n",
              "      <th></th>\n",
              "      <th></th>\n",
              "    </tr>\n",
              "  </thead>\n",
              "  <tbody>\n",
              "    <tr>\n",
              "      <th rowspan=\"5\" valign=\"top\">0</th>\n",
              "      <th>0</th>\n",
              "      <td>0.0</td>\n",
              "      <td>0.0</td>\n",
              "      <td>0.021642</td>\n",
              "      <td>0.000000</td>\n",
              "      <td>34927</td>\n",
              "      <td>5830</td>\n",
              "      <td>Fiskeby 1040-4-2</td>\n",
              "      <td>0.0</td>\n",
              "    </tr>\n",
              "    <tr>\n",
              "      <th>1</th>\n",
              "      <td>0.0</td>\n",
              "      <td>0.0</td>\n",
              "      <td>0.043739</td>\n",
              "      <td>0.027778</td>\n",
              "      <td>34927</td>\n",
              "      <td>5830</td>\n",
              "      <td>Fiskeby 1040-4-2</td>\n",
              "      <td>0.0</td>\n",
              "    </tr>\n",
              "    <tr>\n",
              "      <th>2</th>\n",
              "      <td>0.0</td>\n",
              "      <td>0.0</td>\n",
              "      <td>0.066282</td>\n",
              "      <td>0.055556</td>\n",
              "      <td>34927</td>\n",
              "      <td>5830</td>\n",
              "      <td>Fiskeby 1040-4-2</td>\n",
              "      <td>0.0</td>\n",
              "    </tr>\n",
              "    <tr>\n",
              "      <th>3</th>\n",
              "      <td>0.0</td>\n",
              "      <td>0.0</td>\n",
              "      <td>0.089261</td>\n",
              "      <td>0.083333</td>\n",
              "      <td>34927</td>\n",
              "      <td>5830</td>\n",
              "      <td>Fiskeby 1040-4-2</td>\n",
              "      <td>0.0</td>\n",
              "    </tr>\n",
              "    <tr>\n",
              "      <th>4</th>\n",
              "      <td>0.0</td>\n",
              "      <td>0.0</td>\n",
              "      <td>0.112667</td>\n",
              "      <td>0.111111</td>\n",
              "      <td>34927</td>\n",
              "      <td>5830</td>\n",
              "      <td>Fiskeby 1040-4-2</td>\n",
              "      <td>0.0</td>\n",
              "    </tr>\n",
              "  </tbody>\n",
              "</table>\n",
              "</div>"
            ],
            "text/plain": [
              "              t_min  t_max      dlen       day  station  category  \\\n",
              "  Unnamed: 1                                                        \n",
              "0 0             0.0    0.0  0.021642  0.000000    34927      5830   \n",
              "  1             0.0    0.0  0.043739  0.027778    34927      5830   \n",
              "  2             0.0    0.0  0.066282  0.055556    34927      5830   \n",
              "  3             0.0    0.0  0.089261  0.083333    34927      5830   \n",
              "  4             0.0    0.0  0.112667  0.111111    34927      5830   \n",
              "\n",
              "                          name  state  \n",
              "  Unnamed: 1                           \n",
              "0 0           Fiskeby 1040-4-2    0.0  \n",
              "  1           Fiskeby 1040-4-2    0.0  \n",
              "  2           Fiskeby 1040-4-2    0.0  \n",
              "  3           Fiskeby 1040-4-2    0.0  \n",
              "  4           Fiskeby 1040-4-2    0.0  "
            ]
          },
          "metadata": {
            "tags": []
          },
          "execution_count": 10
        }
      ]
    },
    {
      "metadata": {
        "id": "ihMUMlDPp5j8",
        "colab_type": "text"
      },
      "cell_type": "markdown",
      "source": [
        "The data in now loaded, it uses format that will be described somewhere here some day. "
      ]
    },
    {
      "metadata": {
        "id": "TRck9wib-rG8",
        "colab_type": "text"
      },
      "cell_type": "markdown",
      "source": [
        "### Feature extraction"
      ]
    },
    {
      "metadata": {
        "id": "EFakYqHpTYb5",
        "colab_type": "text"
      },
      "cell_type": "markdown",
      "source": [
        "Shuffle the data. As dataset uses multiindex that is a little tricky, we need to shuffle only the certain level, but the days inside a single experiment shall be in natural order."
      ]
    },
    {
      "metadata": {
        "id": "nv7EdGARsKQG",
        "colab_type": "code",
        "colab": {}
      },
      "cell_type": "code",
      "source": [
        "shuffled_indexes = [i for i in range(len(df.index.levels[0]))]\n",
        "random.shuffle(shuffled_indexes)\n",
        "new_indexes = sorted(df.index, key=lambda x: shuffled_indexes.index(x[0]))"
      ],
      "execution_count": 0,
      "outputs": []
    },
    {
      "metadata": {
        "id": "qMKWEaBhTVDA",
        "colab_type": "code",
        "colab": {}
      },
      "cell_type": "code",
      "source": [
        "df = df.reindex(new_indexes)"
      ],
      "execution_count": 0,
      "outputs": []
    },
    {
      "metadata": {
        "id": "-weuRcdqNAdU",
        "colab_type": "code",
        "colab": {
          "base_uri": "https://localhost:8080/",
          "height": 235
        },
        "outputId": "a175b7a1-150f-41fb-f5e5-59155f17d1ff"
      },
      "cell_type": "code",
      "source": [
        "df.head(5)"
      ],
      "execution_count": 13,
      "outputs": [
        {
          "output_type": "execute_result",
          "data": {
            "text/html": [
              "<div>\n",
              "<style scoped>\n",
              "    .dataframe tbody tr th:only-of-type {\n",
              "        vertical-align: middle;\n",
              "    }\n",
              "\n",
              "    .dataframe tbody tr th {\n",
              "        vertical-align: top;\n",
              "    }\n",
              "\n",
              "    .dataframe thead th {\n",
              "        text-align: right;\n",
              "    }\n",
              "</style>\n",
              "<table border=\"1\" class=\"dataframe\">\n",
              "  <thead>\n",
              "    <tr style=\"text-align: right;\">\n",
              "      <th></th>\n",
              "      <th></th>\n",
              "      <th>t_min</th>\n",
              "      <th>t_max</th>\n",
              "      <th>dlen</th>\n",
              "      <th>day</th>\n",
              "      <th>station</th>\n",
              "      <th>category</th>\n",
              "      <th>name</th>\n",
              "      <th>state</th>\n",
              "    </tr>\n",
              "    <tr>\n",
              "      <th></th>\n",
              "      <th>Unnamed: 1</th>\n",
              "      <th></th>\n",
              "      <th></th>\n",
              "      <th></th>\n",
              "      <th></th>\n",
              "      <th></th>\n",
              "      <th></th>\n",
              "      <th></th>\n",
              "      <th></th>\n",
              "    </tr>\n",
              "  </thead>\n",
              "  <tbody>\n",
              "    <tr>\n",
              "      <th rowspan=\"5\" valign=\"top\">46</th>\n",
              "      <th>0</th>\n",
              "      <td>0.03500</td>\n",
              "      <td>0.0</td>\n",
              "      <td>0.063988</td>\n",
              "      <td>0.00000</td>\n",
              "      <td>26063</td>\n",
              "      <td>10659</td>\n",
              "      <td>P·EP 27</td>\n",
              "      <td>0.0</td>\n",
              "    </tr>\n",
              "    <tr>\n",
              "      <th>1</th>\n",
              "      <td>0.05875</td>\n",
              "      <td>0.0</td>\n",
              "      <td>0.128435</td>\n",
              "      <td>0.03125</td>\n",
              "      <td>26063</td>\n",
              "      <td>10659</td>\n",
              "      <td>P·EP 27</td>\n",
              "      <td>0.0</td>\n",
              "    </tr>\n",
              "    <tr>\n",
              "      <th>2</th>\n",
              "      <td>0.05875</td>\n",
              "      <td>0.0</td>\n",
              "      <td>0.193309</td>\n",
              "      <td>0.06250</td>\n",
              "      <td>26063</td>\n",
              "      <td>10659</td>\n",
              "      <td>P·EP 27</td>\n",
              "      <td>0.0</td>\n",
              "    </tr>\n",
              "    <tr>\n",
              "      <th>3</th>\n",
              "      <td>0.05875</td>\n",
              "      <td>0.0</td>\n",
              "      <td>0.258580</td>\n",
              "      <td>0.09375</td>\n",
              "      <td>26063</td>\n",
              "      <td>10659</td>\n",
              "      <td>P·EP 27</td>\n",
              "      <td>0.0</td>\n",
              "    </tr>\n",
              "    <tr>\n",
              "      <th>4</th>\n",
              "      <td>0.05875</td>\n",
              "      <td>0.0</td>\n",
              "      <td>0.324216</td>\n",
              "      <td>0.12500</td>\n",
              "      <td>26063</td>\n",
              "      <td>10659</td>\n",
              "      <td>P·EP 27</td>\n",
              "      <td>0.0</td>\n",
              "    </tr>\n",
              "  </tbody>\n",
              "</table>\n",
              "</div>"
            ],
            "text/plain": [
              "                 t_min  t_max      dlen      day  station  category     name  \\\n",
              "   Unnamed: 1                                                                  \n",
              "46 0           0.03500    0.0  0.063988  0.00000    26063     10659  P·EP 27   \n",
              "   1           0.05875    0.0  0.128435  0.03125    26063     10659  P·EP 27   \n",
              "   2           0.05875    0.0  0.193309  0.06250    26063     10659  P·EP 27   \n",
              "   3           0.05875    0.0  0.258580  0.09375    26063     10659  P·EP 27   \n",
              "   4           0.05875    0.0  0.324216  0.12500    26063     10659  P·EP 27   \n",
              "\n",
              "               state  \n",
              "   Unnamed: 1         \n",
              "46 0             0.0  \n",
              "   1             0.0  \n",
              "   2             0.0  \n",
              "   3             0.0  \n",
              "   4             0.0  "
            ]
          },
          "metadata": {
            "tags": []
          },
          "execution_count": 13
        }
      ]
    },
    {
      "metadata": {
        "id": "DMi7GUsSTjD-",
        "colab_type": "text"
      },
      "cell_type": "markdown",
      "source": [
        "Select features and target parameter. As the data is shuffled at this point we no longer need multi-index, and selecting values will truncate that information automatically."
      ]
    },
    {
      "metadata": {
        "id": "dlpnB55syxkr",
        "colab_type": "code",
        "colab": {}
      },
      "cell_type": "code",
      "source": [
        "features = ['t_min', 't_max', 'dlen', 'day']\n",
        "data = df[features].values\n",
        "target = df['state'].values"
      ],
      "execution_count": 0,
      "outputs": []
    },
    {
      "metadata": {
        "id": "AShelcevMkUJ",
        "colab_type": "text"
      },
      "cell_type": "markdown",
      "source": [
        "data is numpy matrix with only the needed features for the model and target is numpy vector with output data"
      ]
    },
    {
      "metadata": {
        "id": "gatua_0HNPsw",
        "colab_type": "code",
        "outputId": "fda5dacf-3ada-4773-f6e3-341081912ab4",
        "colab": {
          "base_uri": "https://localhost:8080/",
          "height": 153
        }
      },
      "cell_type": "code",
      "source": [
        "#@title Select number of rows to display { run: \"auto\", form-width: \"30%\" }\n",
        "num_entries = 3 #@param {type:\"slider\", min:0, max:5, step:1}\n",
        "print(\"Data:  \", data.shape, \"Showing only\", num_entries, \"\\n\", data[0:num_entries], \"\\n\")\n",
        "print(\"Target:\", target.shape, \"Showing only\", num_entries, \"\\n\", target[0:num_entries], \"\\n\")"
      ],
      "execution_count": 15,
      "outputs": [
        {
          "output_type": "stream",
          "text": [
            "Data:   (6134, 4) Showing only 3 \n",
            " [[0.035      0.         0.06398836 0.        ]\n",
            " [0.05875    0.         0.12843459 0.03125   ]\n",
            " [0.05875    0.         0.19330857 0.0625    ]] \n",
            "\n",
            "Target: (6134,) Showing only 3 \n",
            " [0. 0. 0.] \n",
            "\n"
          ],
          "name": "stdout"
        }
      ]
    },
    {
      "metadata": {
        "id": "ZTmbe365Qjz8",
        "colab_type": "text"
      },
      "cell_type": "markdown",
      "source": [
        "Split the data for training and testing"
      ]
    },
    {
      "metadata": {
        "id": "gnJFOFwpQjV9",
        "colab_type": "code",
        "outputId": "3b91e75a-b564-46d9-eafa-1b6f7ec511fe",
        "colab": {
          "base_uri": "https://localhost:8080/",
          "height": 51
        }
      },
      "cell_type": "code",
      "source": [
        "#@title Set the desired partition of test and train samples { run: \"auto\", form-width: \"30%\", display-mode: \"both\" }\n",
        "border = 6100 #@param {type:\"slider\", min:4000, max:6100, step:30}\n",
        "train_input, train_output = data[:border], target[:border]\n",
        "test_input, test_output = data[border:], target[border:]\n",
        "\n",
        "print(\"Train set contains\", len(train_input))\n",
        "print(\"Test set contains\", len(test_input))"
      ],
      "execution_count": 16,
      "outputs": [
        {
          "output_type": "stream",
          "text": [
            "Train set contains 6100\n",
            "Test set contains 938\n"
          ],
          "name": "stdout"
        }
      ]
    },
    {
      "metadata": {
        "id": "KdueMwofOzg4",
        "colab_type": "text"
      },
      "cell_type": "markdown",
      "source": [
        "##  Model"
      ]
    },
    {
      "metadata": {
        "id": "h2TevvaLPGZW",
        "colab_type": "text"
      },
      "cell_type": "markdown",
      "source": [
        "We will use a simple model with input layer of 4 neurons, a single hidden layer with 20 neurons and 1 output neuron"
      ]
    },
    {
      "metadata": {
        "id": "7KmKSmm-YL5U",
        "colab_type": "text"
      },
      "cell_type": "markdown",
      "source": [
        "### Keras model definition"
      ]
    },
    {
      "metadata": {
        "id": "TCiZPeGAPuhZ",
        "colab_type": "code",
        "colab": {}
      },
      "cell_type": "code",
      "source": [
        "model = keras.Sequential()\n",
        "model.add(keras.layers.Dense(20, input_dim=4, activation=tf.nn.sigmoid))\n",
        "model.add(keras.layers.Dense(1, activation=tf.nn.sigmoid))"
      ],
      "execution_count": 0,
      "outputs": []
    },
    {
      "metadata": {
        "id": "TeRWlA-oYU2b",
        "colab_type": "text"
      },
      "cell_type": "markdown",
      "source": [
        "### Keras model compile"
      ]
    },
    {
      "metadata": {
        "id": "QQV70qOlQLMF",
        "colab_type": "code",
        "colab": {}
      },
      "cell_type": "code",
      "source": [
        "sgd = optimizers.SGD(lr=10.06)"
      ],
      "execution_count": 0,
      "outputs": []
    },
    {
      "metadata": {
        "id": "SPIy9SW8PyFC",
        "colab_type": "code",
        "colab": {}
      },
      "cell_type": "code",
      "source": [
        "model.compile(loss='mse',\n",
        "              optimizer=sgd,\n",
        "              metrics=['mse', 'mae'])"
      ],
      "execution_count": 0,
      "outputs": []
    },
    {
      "metadata": {
        "id": "nzQE8hoXWRNb",
        "colab_type": "text"
      },
      "cell_type": "markdown",
      "source": [
        "Model summary shows the architecture of the keras model"
      ]
    },
    {
      "metadata": {
        "id": "2g_Nn5dwWL2U",
        "colab_type": "code",
        "outputId": "a0a118bc-ccf9-4651-b317-1e3322ec17d6",
        "colab": {
          "base_uri": "https://localhost:8080/",
          "height": 221
        }
      },
      "cell_type": "code",
      "source": [
        "print(model.summary())"
      ],
      "execution_count": 20,
      "outputs": [
        {
          "output_type": "stream",
          "text": [
            "_________________________________________________________________\n",
            "Layer (type)                 Output Shape              Param #   \n",
            "=================================================================\n",
            "dense_1 (Dense)              (None, 20)                100       \n",
            "_________________________________________________________________\n",
            "dense_2 (Dense)              (None, 1)                 21        \n",
            "=================================================================\n",
            "Total params: 121\n",
            "Trainable params: 121\n",
            "Non-trainable params: 0\n",
            "_________________________________________________________________\n",
            "None\n"
          ],
          "name": "stdout"
        }
      ]
    },
    {
      "metadata": {
        "id": "1yF62adxYEPh",
        "colab_type": "text"
      },
      "cell_type": "markdown",
      "source": [
        "## Results"
      ]
    },
    {
      "metadata": {
        "id": "sX3hnRLUPz_b",
        "colab_type": "code",
        "cellView": "both",
        "outputId": "16a96b7f-0731-40a7-e79e-5c1724987df1",
        "colab": {
          "base_uri": "https://localhost:8080/",
          "height": 564
        }
      },
      "cell_type": "code",
      "source": [
        "#@title Hyperparameters { run: \"auto\", form-width: \"30%\" }\n",
        "epochs = 15 #@param {type:\"integer\"}\n",
        "history = model.fit(\n",
        "    train_input, train_output,\n",
        "    epochs=epochs,\n",
        "    verbose=1,\n",
        "    batch_size=25,\n",
        "    validation_split=0.01)"
      ],
      "execution_count": 21,
      "outputs": [
        {
          "output_type": "stream",
          "text": [
            "Train on 6039 samples, validate on 61 samples\n",
            "Epoch 1/15\n",
            "6039/6039 [==============================] - 3s 442us/step - loss: 0.0261 - mean_squared_error: 0.0261 - mean_absolute_error: 0.0959 - val_loss: 0.0174 - val_mean_squared_error: 0.0174 - val_mean_absolute_error: 0.1001\n",
            "Epoch 2/15\n",
            "6039/6039 [==============================] - 1s 123us/step - loss: 0.0066 - mean_squared_error: 0.0066 - mean_absolute_error: 0.0593 - val_loss: 0.0046 - val_mean_squared_error: 0.0046 - val_mean_absolute_error: 0.0524\n",
            "Epoch 3/15\n",
            "6039/6039 [==============================] - 1s 123us/step - loss: 0.0048 - mean_squared_error: 0.0048 - mean_absolute_error: 0.0508 - val_loss: 0.0084 - val_mean_squared_error: 0.0084 - val_mean_absolute_error: 0.0686\n",
            "Epoch 4/15\n",
            "6039/6039 [==============================] - 1s 137us/step - loss: 0.0028 - mean_squared_error: 0.0028 - mean_absolute_error: 0.0420 - val_loss: 0.0017 - val_mean_squared_error: 0.0017 - val_mean_absolute_error: 0.0356\n",
            "Epoch 5/15\n",
            "6039/6039 [==============================] - 1s 134us/step - loss: 0.0029 - mean_squared_error: 0.0029 - mean_absolute_error: 0.0417 - val_loss: 0.0016 - val_mean_squared_error: 0.0016 - val_mean_absolute_error: 0.0343\n",
            "Epoch 6/15\n",
            "6039/6039 [==============================] - 1s 134us/step - loss: 0.0018 - mean_squared_error: 0.0018 - mean_absolute_error: 0.0348 - val_loss: 0.0021 - val_mean_squared_error: 0.0021 - val_mean_absolute_error: 0.0377\n",
            "Epoch 7/15\n",
            "6039/6039 [==============================] - 1s 133us/step - loss: 0.0019 - mean_squared_error: 0.0019 - mean_absolute_error: 0.0359 - val_loss: 0.0012 - val_mean_squared_error: 0.0012 - val_mean_absolute_error: 0.0308\n",
            "Epoch 8/15\n",
            "6039/6039 [==============================] - 1s 131us/step - loss: 0.0015 - mean_squared_error: 0.0015 - mean_absolute_error: 0.0327 - val_loss: 0.0012 - val_mean_squared_error: 0.0012 - val_mean_absolute_error: 0.0299\n",
            "Epoch 9/15\n",
            "6039/6039 [==============================] - 1s 134us/step - loss: 0.0016 - mean_squared_error: 0.0016 - mean_absolute_error: 0.0334 - val_loss: 0.0011 - val_mean_squared_error: 0.0011 - val_mean_absolute_error: 0.0290\n",
            "Epoch 10/15\n",
            "6039/6039 [==============================] - 1s 133us/step - loss: 0.0014 - mean_squared_error: 0.0014 - mean_absolute_error: 0.0312 - val_loss: 0.0015 - val_mean_squared_error: 0.0015 - val_mean_absolute_error: 0.0322\n",
            "Epoch 11/15\n",
            "6039/6039 [==============================] - 1s 131us/step - loss: 0.0012 - mean_squared_error: 0.0012 - mean_absolute_error: 0.0295 - val_loss: 0.0022 - val_mean_squared_error: 0.0022 - val_mean_absolute_error: 0.0410\n",
            "Epoch 12/15\n",
            "6039/6039 [==============================] - 1s 135us/step - loss: 0.0013 - mean_squared_error: 0.0013 - mean_absolute_error: 0.0308 - val_loss: 9.9995e-04 - val_mean_squared_error: 9.9995e-04 - val_mean_absolute_error: 0.0275\n",
            "Epoch 13/15\n",
            "6039/6039 [==============================] - 1s 132us/step - loss: 0.0012 - mean_squared_error: 0.0012 - mean_absolute_error: 0.0292 - val_loss: 0.0010 - val_mean_squared_error: 0.0010 - val_mean_absolute_error: 0.0276\n",
            "Epoch 14/15\n",
            "6039/6039 [==============================] - 1s 132us/step - loss: 0.0011 - mean_squared_error: 0.0011 - mean_absolute_error: 0.0282 - val_loss: 9.2355e-04 - val_mean_squared_error: 9.2355e-04 - val_mean_absolute_error: 0.0262\n",
            "Epoch 15/15\n",
            "6039/6039 [==============================] - 1s 135us/step - loss: 0.0010 - mean_squared_error: 0.0010 - mean_absolute_error: 0.0274 - val_loss: 9.7138e-04 - val_mean_squared_error: 9.7138e-04 - val_mean_absolute_error: 0.0264\n"
          ],
          "name": "stdout"
        }
      ]
    },
    {
      "metadata": {
        "id": "XGYfo3-eP8L8",
        "colab_type": "code",
        "outputId": "f5fe9608-3812-43eb-9580-a85230bae74a",
        "colab": {
          "base_uri": "https://localhost:8080/",
          "height": 85
        }
      },
      "cell_type": "code",
      "source": [
        "loss, mse, mae = model.evaluate(test_input, test_output)\n",
        "\n",
        "print(\"MSE: \", mse)\n",
        "print(\"MAE: \", mae)\n",
        "# print(\"R2:  \", r2_value)\n",
        "print(\"Loss:\", loss)"
      ],
      "execution_count": 22,
      "outputs": [
        {
          "output_type": "stream",
          "text": [
            "34/34 [==============================] - 0s 353us/step\n",
            "MSE:  0.0011173554196241586\n",
            "MAE:  0.029463867930804983\n",
            "Loss: 0.0011173554196241586\n"
          ],
          "name": "stdout"
        }
      ]
    },
    {
      "metadata": {
        "id": "V3V6ouyo1Xfu",
        "colab_type": "code",
        "outputId": "d8410a40-c8bb-4721-ddb8-68df3a88764e",
        "colab": {
          "base_uri": "https://localhost:8080/",
          "height": 376
        }
      },
      "cell_type": "code",
      "source": [
        "import matplotlib.pyplot as plt\n",
        "\n",
        "# Plot training & validation accuracy values\n",
        "plt.plot(history.history['loss'])\n",
        "plt.plot(history.history['val_loss'])\n",
        "plt.title('Model loss')\n",
        "plt.ylabel('Loss')\n",
        "plt.xlabel('Epoch')\n",
        "plt.legend(['Train', 'Test'], loc='upper right')\n",
        "plt.show()"
      ],
      "execution_count": 23,
      "outputs": [
        {
          "output_type": "display_data",
          "data": {
            "image/png": "[encoded data removed]",
            "text/plain": [
              "<matplotlib.figure.Figure at 0x7f0eb035d9e8>"
            ]
          },
          "metadata": {
            "tags": []
          }
        }
      ]
    },
    {
      "metadata": {
        "id": "G9sMOC1MPOp8",
        "colab_type": "text"
      },
      "cell_type": "markdown",
      "source": [
        "## Save model for future use"
      ]
    },
    {
      "metadata": {
        "id": "lUqpEAMQWrkt",
        "colab_type": "text"
      },
      "cell_type": "markdown",
      "source": [
        "Model can be saved and then loaded to work in different environment"
      ]
    },
    {
      "metadata": {
        "id": "ju0ij5GMO6oV",
        "colab_type": "code",
        "colab": {}
      },
      "cell_type": "code",
      "source": [
        "model.save('soy_blossum_model.h5')"
      ],
      "execution_count": 0,
      "outputs": []
    },
    {
      "metadata": {
        "id": "HTn6gRQFW1KV",
        "colab_type": "text"
      },
      "cell_type": "markdown",
      "source": [
        "Model stores as serialized executable object, can be loaded and instanciated on the fly to exactly the same model. There are some restrictions on such saving method though. If you use this method you can only use keras api and do not include custom code, metrics for instance, that is a pitty because keras doesn't have a standart R^2 metric implementation, thus cannot be saved to be loaded without recompilation."
      ]
    },
    {
      "metadata": {
        "id": "9_AyNV2-XKOB",
        "colab_type": "code",
        "colab": {}
      },
      "cell_type": "code",
      "source": [
        "del model"
      ],
      "execution_count": 0,
      "outputs": []
    },
    {
      "metadata": {
        "id": "A76RTFRfXMw8",
        "colab_type": "code",
        "colab": {}
      },
      "cell_type": "code",
      "source": [
        "from keras.models import load_model\n",
        "\n",
        "model = load_model('soy_blossum_model.h5')"
      ],
      "execution_count": 0,
      "outputs": []
    },
    {
      "metadata": {
        "id": "1ntyOCU8Y7pq",
        "colab_type": "text"
      },
      "cell_type": "markdown",
      "source": [
        "## Evaluating difference in predicted states on actual blossum dates"
      ]
    },
    {
      "metadata": {
        "id": "ewfEK9D0ZE6e",
        "colab_type": "text"
      },
      "cell_type": "markdown",
      "source": [
        "Filter data so that it only has dates with actual blossum, 'day' field is defined so that it is calendar dates mapped into [0;1] interval so selecting blossum dates is easy as selecting rows where 'day' == 1 "
      ]
    },
    {
      "metadata": {
        "id": "K8syA3duphmR",
        "colab_type": "code",
        "colab": {}
      },
      "cell_type": "code",
      "source": [
        "blossum_dates_dataset = df.loc[df['day'] == 1.0]"
      ],
      "execution_count": 0,
      "outputs": []
    },
    {
      "metadata": {
        "id": "6x-16DPyOQgp",
        "colab_type": "code",
        "colab": {
          "base_uri": "https://localhost:8080/",
          "height": 235
        },
        "outputId": "df83afc5-8eb7-45d8-9c8c-0ac864d64645"
      },
      "cell_type": "code",
      "source": [
        "blossum_dates_dataset.head(5)"
      ],
      "execution_count": 41,
      "outputs": [
        {
          "output_type": "execute_result",
          "data": {
            "text/html": [
              "<div>\n",
              "<style scoped>\n",
              "    .dataframe tbody tr th:only-of-type {\n",
              "        vertical-align: middle;\n",
              "    }\n",
              "\n",
              "    .dataframe tbody tr th {\n",
              "        vertical-align: top;\n",
              "    }\n",
              "\n",
              "    .dataframe thead th {\n",
              "        text-align: right;\n",
              "    }\n",
              "</style>\n",
              "<table border=\"1\" class=\"dataframe\">\n",
              "  <thead>\n",
              "    <tr style=\"text-align: right;\">\n",
              "      <th></th>\n",
              "      <th></th>\n",
              "      <th>t_min</th>\n",
              "      <th>t_max</th>\n",
              "      <th>dlen</th>\n",
              "      <th>day</th>\n",
              "      <th>station</th>\n",
              "      <th>category</th>\n",
              "      <th>name</th>\n",
              "      <th>state</th>\n",
              "    </tr>\n",
              "    <tr>\n",
              "      <th></th>\n",
              "      <th>Unnamed: 1</th>\n",
              "      <th></th>\n",
              "      <th></th>\n",
              "      <th></th>\n",
              "      <th></th>\n",
              "      <th></th>\n",
              "      <th></th>\n",
              "      <th></th>\n",
              "      <th></th>\n",
              "    </tr>\n",
              "  </thead>\n",
              "  <tbody>\n",
              "    <tr>\n",
              "      <th>46</th>\n",
              "      <th>32</th>\n",
              "      <td>0.95375</td>\n",
              "      <td>0.38000</td>\n",
              "      <td>2.173018</td>\n",
              "      <td>1.0</td>\n",
              "      <td>26063</td>\n",
              "      <td>10659</td>\n",
              "      <td>P·EP 27</td>\n",
              "      <td>1.0</td>\n",
              "    </tr>\n",
              "    <tr>\n",
              "      <th>32</th>\n",
              "      <th>42</th>\n",
              "      <td>0.85625</td>\n",
              "      <td>0.42750</td>\n",
              "      <td>2.786611</td>\n",
              "      <td>1.0</td>\n",
              "      <td>26063</td>\n",
              "      <td>10655</td>\n",
              "      <td>P·EP 18</td>\n",
              "      <td>1.0</td>\n",
              "    </tr>\n",
              "    <tr>\n",
              "      <th>120</th>\n",
              "      <th>41</th>\n",
              "      <td>0.96000</td>\n",
              "      <td>0.71500</td>\n",
              "      <td>2.698989</td>\n",
              "      <td>1.0</td>\n",
              "      <td>26063</td>\n",
              "      <td>10659</td>\n",
              "      <td>P·EP 27</td>\n",
              "      <td>1.0</td>\n",
              "    </tr>\n",
              "    <tr>\n",
              "      <th>21</th>\n",
              "      <th>33</th>\n",
              "      <td>1.08250</td>\n",
              "      <td>1.08250</td>\n",
              "      <td>2.149492</td>\n",
              "      <td>1.0</td>\n",
              "      <td>26063</td>\n",
              "      <td>10655</td>\n",
              "      <td>P·EP 18</td>\n",
              "      <td>1.0</td>\n",
              "    </tr>\n",
              "    <tr>\n",
              "      <th>152</th>\n",
              "      <th>37</th>\n",
              "      <td>1.03125</td>\n",
              "      <td>0.77875</td>\n",
              "      <td>2.485391</td>\n",
              "      <td>1.0</td>\n",
              "      <td>26063</td>\n",
              "      <td>9960</td>\n",
              "      <td>Svetlaya</td>\n",
              "      <td>1.0</td>\n",
              "    </tr>\n",
              "  </tbody>\n",
              "</table>\n",
              "</div>"
            ],
            "text/plain": [
              "                  t_min    t_max      dlen  day  station  category      name  \\\n",
              "    Unnamed: 1                                                                 \n",
              "46  32          0.95375  0.38000  2.173018  1.0    26063     10659   P·EP 27   \n",
              "32  42          0.85625  0.42750  2.786611  1.0    26063     10655   P·EP 18   \n",
              "120 41          0.96000  0.71500  2.698989  1.0    26063     10659   P·EP 27   \n",
              "21  33          1.08250  1.08250  2.149492  1.0    26063     10655   P·EP 18   \n",
              "152 37          1.03125  0.77875  2.485391  1.0    26063      9960  Svetlaya   \n",
              "\n",
              "                state  \n",
              "    Unnamed: 1         \n",
              "46  32            1.0  \n",
              "32  42            1.0  \n",
              "120 41            1.0  \n",
              "21  33            1.0  \n",
              "152 37            1.0  "
            ]
          },
          "metadata": {
            "tags": []
          },
          "execution_count": 41
        }
      ]
    },
    {
      "metadata": {
        "id": "CS-1Oc_AWysM",
        "colab_type": "code",
        "colab": {}
      },
      "cell_type": "code",
      "source": [
        "predicted_blossum = model.predict(blossum_dates_dataset[features].values)"
      ],
      "execution_count": 0,
      "outputs": []
    },
    {
      "metadata": {
        "id": "vExND_onO0fD",
        "colab_type": "code",
        "colab": {
          "base_uri": "https://localhost:8080/",
          "height": 2618
        },
        "outputId": "f3d52fc1-cfa3-42ee-937f-a56938bbe00d"
      },
      "cell_type": "code",
      "source": [
        "predicted_blossum"
      ],
      "execution_count": 42,
      "outputs": [
        {
          "output_type": "execute_result",
          "data": {
            "text/plain": [
              "array([[0.99188095],\n",
              "       [0.991422  ],\n",
              "       [0.99153894],\n",
              "       [0.99158514],\n",
              "       [0.9918149 ],\n",
              "       [0.992347  ],\n",
              "       [0.9923883 ],\n",
              "       [0.9887927 ],\n",
              "       [0.99320495],\n",
              "       [0.99238247],\n",
              "       [0.99063104],\n",
              "       [0.9908023 ],\n",
              "       [0.99172395],\n",
              "       [0.992694  ],\n",
              "       [0.9920333 ],\n",
              "       [0.9905377 ],\n",
              "       [0.99149746],\n",
              "       [0.9922397 ],\n",
              "       [0.992938  ],\n",
              "       [0.99199086],\n",
              "       [0.9904344 ],\n",
              "       [0.99087954],\n",
              "       [0.99337846],\n",
              "       [0.991422  ],\n",
              "       [0.9913873 ],\n",
              "       [0.992938  ],\n",
              "       [0.9922766 ],\n",
              "       [0.9917572 ],\n",
              "       [0.9923379 ],\n",
              "       [0.99188095],\n",
              "       [0.99141663],\n",
              "       [0.990573  ],\n",
              "       [0.9925545 ],\n",
              "       [0.9923988 ],\n",
              "       [0.9922335 ],\n",
              "       [0.9923379 ],\n",
              "       [0.9892641 ],\n",
              "       [0.99141663],\n",
              "       [0.99155515],\n",
              "       [0.99380684],\n",
              "       [0.9908614 ],\n",
              "       [0.992347  ],\n",
              "       [0.99158514],\n",
              "       [0.99177295],\n",
              "       [0.9923988 ],\n",
              "       [0.99122286],\n",
              "       [0.98944664],\n",
              "       [0.992347  ],\n",
              "       [0.99327713],\n",
              "       [0.99180764],\n",
              "       [0.99337846],\n",
              "       [0.9908023 ],\n",
              "       [0.992694  ],\n",
              "       [0.9928295 ],\n",
              "       [0.99180764],\n",
              "       [0.99272376],\n",
              "       [0.99272376],\n",
              "       [0.99223447],\n",
              "       [0.9927785 ],\n",
              "       [0.992347  ],\n",
              "       [0.9905377 ],\n",
              "       [0.9923883 ],\n",
              "       [0.9923649 ],\n",
              "       [0.99371123],\n",
              "       [0.99122286],\n",
              "       [0.9908794 ],\n",
              "       [0.99342704],\n",
              "       [0.99349797],\n",
              "       [0.99087733],\n",
              "       [0.9927153 ],\n",
              "       [0.98977953],\n",
              "       [0.99136275],\n",
              "       [0.99308574],\n",
              "       [0.992347  ],\n",
              "       [0.992347  ],\n",
              "       [0.99342704],\n",
              "       [0.9885598 ],\n",
              "       [0.99331516],\n",
              "       [0.9892641 ],\n",
              "       [0.99157894],\n",
              "       [0.990573  ],\n",
              "       [0.992347  ],\n",
              "       [0.99180764],\n",
              "       [0.9907714 ],\n",
              "       [0.98989713],\n",
              "       [0.99187917],\n",
              "       [0.9907136 ],\n",
              "       [0.9908023 ],\n",
              "       [0.99087954],\n",
              "       [0.991795  ],\n",
              "       [0.99319565],\n",
              "       [0.99095434],\n",
              "       [0.9904018 ],\n",
              "       [0.9927153 ],\n",
              "       [0.991105  ],\n",
              "       [0.99158514],\n",
              "       [0.9907136 ],\n",
              "       [0.9887927 ],\n",
              "       [0.98826444],\n",
              "       [0.9918174 ],\n",
              "       [0.9907714 ],\n",
              "       [0.9904344 ],\n",
              "       [0.9920333 ],\n",
              "       [0.99322   ],\n",
              "       [0.9913914 ],\n",
              "       [0.9904344 ],\n",
              "       [0.9917629 ],\n",
              "       [0.99163705],\n",
              "       [0.992347  ],\n",
              "       [0.9939114 ],\n",
              "       [0.9884438 ],\n",
              "       [0.9932132 ],\n",
              "       [0.99180764],\n",
              "       [0.9914408 ],\n",
              "       [0.9897306 ],\n",
              "       [0.9935416 ],\n",
              "       [0.9913155 ],\n",
              "       [0.99252737],\n",
              "       [0.9920632 ],\n",
              "       [0.9914051 ],\n",
              "       [0.9907136 ],\n",
              "       [0.99150205],\n",
              "       [0.99150205],\n",
              "       [0.9929852 ],\n",
              "       [0.99238247],\n",
              "       [0.99320495],\n",
              "       [0.99255073],\n",
              "       [0.9890971 ],\n",
              "       [0.99292034],\n",
              "       [0.99146444],\n",
              "       [0.9892641 ],\n",
              "       [0.9913873 ],\n",
              "       [0.9898825 ],\n",
              "       [0.99153894],\n",
              "       [0.993349  ],\n",
              "       [0.99158514],\n",
              "       [0.9918079 ],\n",
              "       [0.99277663],\n",
              "       [0.9904344 ],\n",
              "       [0.9902518 ],\n",
              "       [0.991935  ],\n",
              "       [0.99087733],\n",
              "       [0.98977953],\n",
              "       [0.9937417 ],\n",
              "       [0.9917629 ],\n",
              "       [0.9923988 ],\n",
              "       [0.9929141 ],\n",
              "       [0.99172395],\n",
              "       [0.99136275],\n",
              "       [0.9890971 ],\n",
              "       [0.99087733],\n",
              "       [0.99189353],\n",
              "       [0.9902518 ]], dtype=float32)"
            ]
          },
          "metadata": {
            "tags": []
          },
          "execution_count": 42
        }
      ]
    },
    {
      "metadata": {
        "id": "aLiPAolnbJbe",
        "colab_type": "text"
      },
      "cell_type": "markdown",
      "source": [
        "We can only observe the difference in state, because none of the inputs produce state >= 1, so that it is impossible to observe the difference in days without analytical or numerical extrapolation of model predictive function"
      ]
    },
    {
      "metadata": {
        "id": "1PJS_4k5qBEs",
        "colab_type": "code",
        "colab": {}
      },
      "cell_type": "code",
      "source": [
        "diff_state = predicted_blossum - blossum_dates_dataset['state'].values"
      ],
      "execution_count": 0,
      "outputs": []
    },
    {
      "metadata": {
        "id": "XfNHlKCdY37a",
        "colab_type": "code",
        "outputId": "47d479ec-e1ef-4c73-86ef-450f6b9d9170",
        "colab": {
          "base_uri": "https://localhost:8080/",
          "height": 238
        }
      },
      "cell_type": "code",
      "source": [
        "diff_state"
      ],
      "execution_count": 35,
      "outputs": [
        {
          "output_type": "execute_result",
          "data": {
            "text/plain": [
              "array([[-0.00811905, -0.00811905, -0.00811905, ..., -0.00811905,\n",
              "        -0.00811905, -0.00811905],\n",
              "       [-0.008578  , -0.008578  , -0.008578  , ..., -0.008578  ,\n",
              "        -0.008578  , -0.008578  ],\n",
              "       [-0.00846106, -0.00846106, -0.00846106, ..., -0.00846106,\n",
              "        -0.00846106, -0.00846106],\n",
              "       ...,\n",
              "       [-0.00912267, -0.00912267, -0.00912267, ..., -0.00912267,\n",
              "        -0.00912267, -0.00912267],\n",
              "       [-0.00810647, -0.00810647, -0.00810647, ..., -0.00810647,\n",
              "        -0.00810647, -0.00810647],\n",
              "       [-0.00974822, -0.00974822, -0.00974822, ..., -0.00974822,\n",
              "        -0.00974822, -0.00974822]])"
            ]
          },
          "metadata": {
            "tags": []
          },
          "execution_count": 35
        }
      ]
    },
    {
      "metadata": {
        "id": "f1i7Ly6yYSpM",
        "colab_type": "code",
        "outputId": "ed3fcab5-b631-4573-db07-9b99941f2795",
        "colab": {
          "base_uri": "https://localhost:8080/",
          "height": 51
        }
      },
      "cell_type": "code",
      "source": [
        "print(\"Mean\", np.mean(diff_state))\n",
        "print(\"Std\", np.std(diff_state))"
      ],
      "execution_count": 36,
      "outputs": [
        {
          "output_type": "stream",
          "text": [
            "Mean -0.008350132727155499\n",
            "Std 0.0012062834381094396\n"
          ],
          "name": "stdout"
        }
      ]
    },
    {
      "metadata": {
        "id": "MMqp83g8fQwa",
        "colab_type": "text"
      },
      "cell_type": "markdown",
      "source": [
        "In ideal case we want the model expected value be exactly equal to actual predicted blossum dates"
      ]
    },
    {
      "metadata": {
        "id": "9iGHqBc-Y6nQ",
        "colab_type": "code",
        "outputId": "8c400fdb-b11c-45b9-ddb1-1093ea116712",
        "colab": {
          "base_uri": "https://localhost:8080/",
          "height": 364
        }
      },
      "cell_type": "code",
      "source": [
        "plt.plot([x for x in range(len(predicted_blossum))], predicted_blossum)\n",
        "plt.plot([x for x in range(len(blossum_dates_dataset['state'].values))], blossum_dates_dataset['state'].values)"
      ],
      "execution_count": 40,
      "outputs": [
        {
          "output_type": "execute_result",
          "data": {
            "text/plain": [
              "[<matplotlib.lines.Line2D at 0x7f0e9bfc0390>]"
            ]
          },
          "metadata": {
            "tags": []
          },
          "execution_count": 40
        },
        {
          "output_type": "display_data",
          "data": {
            "image/png": "[encoded data removed]",
            "text/plain": [
              "<matplotlib.figure.Figure at 0x7f0e9bfc0ac8>"
            ]
          },
          "metadata": {
            "tags": []
          }
        }
      ]
    },
    {
      "metadata": {
        "id": "Q-kdVmyVYieY",
        "colab_type": "text"
      },
      "cell_type": "markdown",
      "source": [
        "## Conclusion"
      ]
    },
    {
      "metadata": {
        "id": "vfOWiI-lDak0",
        "colab_type": "text"
      },
      "cell_type": "markdown",
      "source": [
        "The model passed proof of concept phase, it does learn and gives OK prediction, more data will lead to even more accurate results."
      ]
    }
  ]
}
